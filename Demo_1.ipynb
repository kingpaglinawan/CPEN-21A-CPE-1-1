{
  "nbformat": 4,
  "nbformat_minor": 0,
  "metadata": {
    "colab": {
      "name": "Demo 1.ipynb",
      "provenance": [],
      "authorship_tag": "ABX9TyOVyuQSByTtl9yb6ri06Pax",
      "include_colab_link": true
    },
    "kernelspec": {
      "name": "python3",
      "display_name": "Python 3"
    },
    "language_info": {
      "name": "python"
    }
  },
  "cells": [
    {
      "cell_type": "markdown",
      "metadata": {
        "id": "view-in-github",
        "colab_type": "text"
      },
      "source": [
        "<a href=\"https://colab.research.google.com/github/kingpaglinawan/CPEN-21A-CPE-1-1/blob/main/Demo_1.ipynb\" target=\"_parent\"><img src=\"https://colab.research.google.com/assets/colab-badge.svg\" alt=\"Open In Colab\"/></a>"
      ]
    },
    {
      "cell_type": "code",
      "metadata": {
        "colab": {
          "base_uri": "https://localhost:8080/"
        },
        "id": "cNJXzneh1gdg",
        "outputId": "44526bfd-55bb-4311-8295-00021a674b28"
      },
      "source": [
        "\n",
        "a=\"King\"\n",
        "B=\"Computer Engineer\"\n",
        "c=\"19\"\n",
        "print(a,B,c)\n",
        "print(a)\n",
        "print(B)\n",
        "print(c)"
      ],
      "execution_count": 46,
      "outputs": [
        {
          "output_type": "stream",
          "name": "stdout",
          "text": [
            "King Computer Engineer 19\n",
            "King\n",
            "Computer Engineer\n",
            "19\n"
          ]
        }
      ]
    },
    {
      "cell_type": "markdown",
      "metadata": {
        "id": "TT_l1hKV2hdh"
      },
      "source": [
        "###Basic Computer\n",
        "##Python\n",
        "#DEMO"
      ]
    },
    {
      "cell_type": "markdown",
      "metadata": {
        "id": "5n2Q4THWlstf"
      },
      "source": [
        "###Introduction to Python Programming"
      ]
    },
    {
      "cell_type": "markdown",
      "metadata": {
        "id": "0sEZklYgl-L5"
      },
      "source": [
        "b=\"Sally\"\n",
        "print(b)"
      ]
    },
    {
      "cell_type": "code",
      "metadata": {
        "id": "5drV9XTboIar"
      },
      "source": [
        "a='Sally'"
      ],
      "execution_count": 33,
      "outputs": []
    },
    {
      "cell_type": "code",
      "metadata": {
        "colab": {
          "base_uri": "https://localhost:8080/"
        },
        "id": "E55qchQlmh7M",
        "outputId": "4c3f58a4-e7c8-49aa-db44-c7fef9358d17"
      },
      "source": [
        "a, b, c=0, 1, 2\n",
        "print(type(a))\n",
        "print(b)\n",
        "print(c)"
      ],
      "execution_count": 34,
      "outputs": [
        {
          "output_type": "stream",
          "name": "stdout",
          "text": [
            "<class 'int'>\n",
            "1\n",
            "2\n"
          ]
        }
      ]
    },
    {
      "cell_type": "code",
      "metadata": {
        "colab": {
          "base_uri": "https://localhost:8080/"
        },
        "id": "4QvRhXLQm9W5",
        "outputId": "b4241602-e494-45af-d2ec-e8cae75cfc94"
      },
      "source": [
        "a= int(4)\n",
        "print(a)"
      ],
      "execution_count": 35,
      "outputs": [
        {
          "output_type": "stream",
          "name": "stdout",
          "text": [
            "4\n"
          ]
        }
      ]
    },
    {
      "cell_type": "code",
      "metadata": {
        "colab": {
          "base_uri": "https://localhost:8080/"
        },
        "id": "WVozuEl2nIVc",
        "outputId": "d43ce724-377b-42f7-9cdd-4b7e54c31525"
      },
      "source": [
        "a= float(4)\n",
        "print(a)"
      ],
      "execution_count": 36,
      "outputs": [
        {
          "output_type": "stream",
          "name": "stdout",
          "text": [
            "4.0\n"
          ]
        }
      ]
    },
    {
      "cell_type": "code",
      "metadata": {
        "colab": {
          "base_uri": "https://localhost:8080/"
        },
        "id": "-CCCezYLpCPL",
        "outputId": "09efc733-8ee5-4269-b005-c9b4dababcfe"
      },
      "source": [
        "x=5\n",
        "y=6\n",
        "print(x+y)\n",
        "print(x-y)\n",
        "print (x>y)\n",
        "print (x<y)"
      ],
      "execution_count": 37,
      "outputs": [
        {
          "output_type": "stream",
          "name": "stdout",
          "text": [
            "11\n",
            "-1\n",
            "False\n",
            "True\n"
          ]
        }
      ]
    },
    {
      "cell_type": "code",
      "metadata": {
        "colab": {
          "base_uri": "https://localhost:8080/"
        },
        "id": "CDj-UaCbrlBe",
        "outputId": "3e51deb0-85c7-4b46-8573-7f1c67e10410"
      },
      "source": [
        "x<y and x==x"
      ],
      "execution_count": 38,
      "outputs": [
        {
          "output_type": "execute_result",
          "data": {
            "text/plain": [
              "True"
            ]
          },
          "metadata": {},
          "execution_count": 38
        }
      ]
    },
    {
      "cell_type": "code",
      "metadata": {
        "colab": {
          "base_uri": "https://localhost:8080/"
        },
        "id": "YBwqEEU7wlOD",
        "outputId": "1cb49c5e-d756-4f01-84de-2bc5b6080234"
      },
      "source": [
        "x = y = z =\"four\"\n",
        "print(x)\n",
        "print(y)\n",
        "print(z)"
      ],
      "execution_count": 39,
      "outputs": [
        {
          "output_type": "stream",
          "name": "stdout",
          "text": [
            "four\n",
            "four\n",
            "four\n"
          ]
        }
      ]
    },
    {
      "cell_type": "code",
      "metadata": {
        "colab": {
          "base_uri": "https://localhost:8080/"
        },
        "id": "2GWiSpwHw6mp",
        "outputId": "6b014f78-37c0-46dd-91df-8839bd790fac"
      },
      "source": [
        "x= \"enjoying\"\n",
        "print('Python Programming is '+\" \"+ x)"
      ],
      "execution_count": 40,
      "outputs": [
        {
          "output_type": "stream",
          "name": "stdout",
          "text": [
            "Python Programming is  enjoying\n"
          ]
        }
      ]
    },
    {
      "cell_type": "code",
      "metadata": {
        "colab": {
          "base_uri": "https://localhost:8080/"
        },
        "id": "4Oi1dK5bxPFB",
        "outputId": "4ae37fc0-c918-46e6-c25e-3f0aad389b36"
      },
      "source": [
        "b= \"Sally\"\n",
        "print(type(b))"
      ],
      "execution_count": 41,
      "outputs": [
        {
          "output_type": "stream",
          "name": "stdout",
          "text": [
            "<class 'str'>\n"
          ]
        }
      ]
    },
    {
      "cell_type": "code",
      "metadata": {
        "colab": {
          "base_uri": "https://localhost:8080/"
        },
        "id": "aYlZv1uyxPM9",
        "outputId": "045b7a8d-1a51-4749-f4bb-8011fe020d85"
      },
      "source": [
        "a, b, c, =\"banana\", \"apple\", \"coconut\"\n",
        "print(a, b, c)\n",
        "print(type(a))\n",
        "print(type(c))"
      ],
      "execution_count": 42,
      "outputs": [
        {
          "output_type": "stream",
          "name": "stdout",
          "text": [
            "banana apple coconut\n",
            "<class 'str'>\n",
            "<class 'str'>\n"
          ]
        }
      ]
    },
    {
      "cell_type": "code",
      "metadata": {
        "colab": {
          "base_uri": "https://localhost:8080/"
        },
        "id": "1BpjAXDiyvFf",
        "outputId": "9d95e149-e6e7-40d1-92e4-111d2207a016"
      },
      "source": [
        "a=float(2)\n",
        "b=int(2)\n",
        "c=2.5\n",
        "print(a,b)\n",
        "print(type(c))"
      ],
      "execution_count": 43,
      "outputs": [
        {
          "output_type": "stream",
          "name": "stdout",
          "text": [
            "2.0 2\n",
            "<class 'float'>\n"
          ]
        }
      ]
    },
    {
      "cell_type": "code",
      "metadata": {
        "id": "nglDEYGc0DBi"
      },
      "source": [
        ""
      ],
      "execution_count": 43,
      "outputs": []
    }
  ]
}