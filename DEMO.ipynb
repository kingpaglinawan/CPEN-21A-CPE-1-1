{
  "nbformat": 4,
  "nbformat_minor": 0,
  "metadata": {
    "colab": {
      "name": "DEMO.ipynb",
      "provenance": [],
      "authorship_tag": "ABX9TyOErlDPyyQAjZrO7tMA8uhQ",
      "include_colab_link": true
    },
    "kernelspec": {
      "name": "python3",
      "display_name": "Python 3"
    },
    "language_info": {
      "name": "python"
    }
  },
  "cells": [
    {
      "cell_type": "markdown",
      "metadata": {
        "id": "view-in-github",
        "colab_type": "text"
      },
      "source": [
        "<a href=\"https://colab.research.google.com/github/kingpaglinawan/CPEN-21A-CPE-1-1/blob/main/DEMO.ipynb\" target=\"_parent\"><img src=\"https://colab.research.google.com/assets/colab-badge.svg\" alt=\"Open In Colab\"/></a>"
      ]
    },
    {
      "cell_type": "code",
      "metadata": {
        "id": "IzLhbSBflWwt"
      },
      "source": [
        ""
      ],
      "execution_count": null,
      "outputs": []
    },
    {
      "cell_type": "markdown",
      "metadata": {
        "id": "5n2Q4THWlstf"
      },
      "source": [
        "###Introduction to Python Programming"
      ]
    },
    {
      "cell_type": "markdown",
      "metadata": {
        "id": "0sEZklYgl-L5"
      },
      "source": [
        "b=\"Sally\"\n",
        "print(b)"
      ]
    },
    {
      "cell_type": "code",
      "metadata": {
        "id": "5drV9XTboIar"
      },
      "source": [
        "a='Sally'"
      ],
      "execution_count": null,
      "outputs": []
    },
    {
      "cell_type": "code",
      "metadata": {
        "colab": {
          "base_uri": "https://localhost:8080/"
        },
        "id": "E55qchQlmh7M",
        "outputId": "505054cf-27f0-4da3-da1f-b3fc815ff50f"
      },
      "source": [
        "a, b, c=0, 1, 2\n",
        "print(type(a))\n",
        "print(b)\n",
        "print(c)"
      ],
      "execution_count": 5,
      "outputs": [
        {
          "output_type": "stream",
          "name": "stdout",
          "text": [
            "<class 'int'>\n",
            "1\n",
            "2\n"
          ]
        }
      ]
    },
    {
      "cell_type": "code",
      "metadata": {
        "colab": {
          "base_uri": "https://localhost:8080/"
        },
        "id": "4QvRhXLQm9W5",
        "outputId": "66b7f8e2-23f2-491f-d97b-8636c116c71a"
      },
      "source": [
        "a= int(4)\n",
        "print(a)"
      ],
      "execution_count": 3,
      "outputs": [
        {
          "output_type": "stream",
          "name": "stdout",
          "text": [
            "4\n"
          ]
        }
      ]
    },
    {
      "cell_type": "code",
      "metadata": {
        "colab": {
          "base_uri": "https://localhost:8080/"
        },
        "id": "WVozuEl2nIVc",
        "outputId": "fc3bc007-7796-448f-95c8-e0a5eac3edf6"
      },
      "source": [
        "a= float(4)\n",
        "print(a)"
      ],
      "execution_count": 4,
      "outputs": [
        {
          "output_type": "stream",
          "name": "stdout",
          "text": [
            "4.0\n"
          ]
        }
      ]
    },
    {
      "cell_type": "code",
      "metadata": {
        "colab": {
          "base_uri": "https://localhost:8080/"
        },
        "id": "-CCCezYLpCPL",
        "outputId": "b6190fa7-5650-41fa-a089-fad07c1107c2"
      },
      "source": [
        "x=5\n",
        "y=6\n",
        "print(x+y)\n",
        "print(x-y)"
      ],
      "execution_count": 6,
      "outputs": [
        {
          "output_type": "stream",
          "name": "stdout",
          "text": [
            "11\n",
            "-1\n"
          ]
        }
      ]
    },
    {
      "cell_type": "code",
      "metadata": {
        "id": "CDj-UaCbrlBe"
      },
      "source": [
        "not(x>y)"
      ],
      "execution_count": null,
      "outputs": []
    }
  ]
}