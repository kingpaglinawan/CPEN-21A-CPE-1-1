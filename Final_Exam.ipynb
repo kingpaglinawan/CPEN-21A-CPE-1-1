{
  "nbformat": 4,
  "nbformat_minor": 0,
  "metadata": {
    "colab": {
      "name": "Final Exam.ipynb",
      "provenance": [],
      "authorship_tag": "ABX9TyOOW5IDQ/GK/0PM3LK9m93R",
      "include_colab_link": true
    },
    "kernelspec": {
      "name": "python3",
      "display_name": "Python 3"
    },
    "language_info": {
      "name": "python"
    }
  },
  "cells": [
    {
      "cell_type": "markdown",
      "metadata": {
        "id": "view-in-github",
        "colab_type": "text"
      },
      "source": [
        "<a href=\"https://colab.research.google.com/github/kingpaglinawan/CPEN-21A-CPE-1-1/blob/main/Final_Exam.ipynb\" target=\"_parent\"><img src=\"https://colab.research.google.com/assets/colab-badge.svg\" alt=\"Open In Colab\"/></a>"
      ]
    },
    {
      "cell_type": "markdown",
      "source": [
        "##Problem Statement 1\n",
        "###Program that will produce an output of sum of 10 numbers less than 5 using FOR LOOP statement\n"
      ],
      "metadata": {
        "id": "wSKUHjrMB4wT"
      }
    },
    {
      "cell_type": "code",
      "source": [
        "sum = 0        \n",
        "number = [-5,-4,-3,-2,-1,0,1,2,3,4,] \n",
        "for y in (number):\n",
        "  sum = sum + y\n",
        "print(\"The sum of 10 number is less than 5 is\", sum)\n"
      ],
      "metadata": {
        "colab": {
          "base_uri": "https://localhost:8080/"
        },
        "id": "EnSrX5CdB-6W",
        "outputId": "c6255db7-2b0d-4af6-8f21-9a438e1f0c94"
      },
      "execution_count": 49,
      "outputs": [
        {
          "output_type": "stream",
          "name": "stdout",
          "text": [
            "The sum of 10 number is less than 5 is -5\n"
          ]
        }
      ]
    },
    {
      "cell_type": "markdown",
      "source": [
        "##Problem Statement 2\n",
        "### Create a Python program that will produce accept five numbers and determine the sum of first and last number among the five numbers entered using WHILE LOOP."
      ],
      "metadata": {
        "id": "6QKURNx2HPwO"
      }
    },
    {
      "cell_type": "markdown",
      "source": [
        "###Code 1"
      ],
      "metadata": {
        "id": "AVwzuLbXQN11"
      }
    },
    {
      "cell_type": "code",
      "source": [
        "num = int(input(\"1st number: \"))\n",
        "while(num !=0):\n",
        "  k = int(input(\"2nd number: \"))\n",
        "  i = int(input(\"3rd number: \"))\n",
        "  n = int(input(\"4th number: \"))\n",
        "  g = int(input(\"5th number: \"))\n",
        "  break\n",
        "  y = g\n",
        "while (y!=0):\n",
        "  y = num + g\n",
        "  print(\"the answer is\", y)\n",
        "  num -=1\n",
        "  break\n",
        "\n"
      ],
      "metadata": {
        "colab": {
          "base_uri": "https://localhost:8080/"
        },
        "id": "1xfBqoMdHVTu",
        "outputId": "3d1dda94-c01b-4f48-dc19-03cb08aa4099"
      },
      "execution_count": 26,
      "outputs": [
        {
          "output_type": "stream",
          "name": "stdout",
          "text": [
            "1st number: 789\n",
            "2nd number: 76\n",
            "3rd number: 67\n",
            "4th number: 85\n",
            "5th number: 65\n",
            "the answer is 854\n"
          ]
        }
      ]
    },
    {
      "cell_type": "markdown",
      "source": [
        "###Code 2-less code\n"
      ],
      "metadata": {
        "id": "lSpyfll3QZPP"
      }
    },
    {
      "cell_type": "code",
      "source": [
        "code = 0\n",
        "k = []\n",
        "while code < 5:\n",
        "  b = int(input(f\"Insert number{code+1}: \"))\n",
        "  code +=1\n",
        "  k.append(b)\n",
        "print(\"Numbers\",k)\n",
        "print(\"total\", k[0] + k[-1])"
      ],
      "metadata": {
        "colab": {
          "base_uri": "https://localhost:8080/"
        },
        "id": "DkTke8RVQcrw",
        "outputId": "b43a32bf-e256-4a0a-dfc7-930bbe460748"
      },
      "execution_count": 34,
      "outputs": [
        {
          "output_type": "stream",
          "name": "stdout",
          "text": [
            "Insert number1: 789\n",
            "Insert number2: 76\n",
            "Insert number3: 67\n",
            "Insert number4: 85\n",
            "Insert number5: 65\n",
            "Numbers [789, 76, 67, 85, 65]\n",
            "total 854\n"
          ]
        }
      ]
    },
    {
      "cell_type": "markdown",
      "source": [
        "##Problem Stament 3\n",
        "###Create a Python program to calculate student grades. It accepts a numerical grade as input and it will display the character grade as output based on the given scale: (Use Nested-IF-Else statement)"
      ],
      "metadata": {
        "id": "7XFoscHcUwS_"
      }
    },
    {
      "cell_type": "code",
      "source": [
        "grade = int(input(\"Numerical Grade: \"))\n",
        "if grade >=90:\n",
        "  print (\"Character Grade: A\")\n",
        "else:\n",
        "  if grade <=90 and grade >=80:\n",
        "    print (\"Character Grade: B\")\n",
        "  else:\n",
        "    if grade <=80 and grade >=70:\n",
        "      print (\"Character Grade: C\")\n",
        "    else:\n",
        "      if grade <=70 and grade >=60:\n",
        "        print (\"Character Grade: D\") \n",
        "      else:\n",
        "        print (\"Character Grade: F\")   "
      ],
      "metadata": {
        "colab": {
          "base_uri": "https://localhost:8080/"
        },
        "id": "Zm3n-t3tV27B",
        "outputId": "a8656f28-764d-44c2-8f39-7b94539515c4"
      },
      "execution_count": 48,
      "outputs": [
        {
          "output_type": "stream",
          "name": "stdout",
          "text": [
            "Numerical Grade: 95\n",
            "Character Grade: A\n"
          ]
        }
      ]
    }
  ]
}