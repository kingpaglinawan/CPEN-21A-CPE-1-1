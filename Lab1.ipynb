{
  "nbformat": 4,
  "nbformat_minor": 0,
  "metadata": {
    "colab": {
      "name": "Lab1.ipynb",
      "provenance": [],
      "authorship_tag": "ABX9TyOIY4j7oUQUvilmBLjcin1U",
      "include_colab_link": true
    },
    "kernelspec": {
      "name": "python3",
      "display_name": "Python 3"
    },
    "language_info": {
      "name": "python"
    }
  },
  "cells": [
    {
      "cell_type": "markdown",
      "metadata": {
        "id": "view-in-github",
        "colab_type": "text"
      },
      "source": [
        "<a href=\"https://colab.research.google.com/github/kingpaglinawan/CPEN-21A-CPE-1-1/blob/main/Lab1.ipynb\" target=\"_parent\"><img src=\"https://colab.research.google.com/assets/colab-badge.svg\" alt=\"Open In Colab\"/></a>"
      ]
    },
    {
      "cell_type": "markdown",
      "metadata": {
        "id": "W_ESQUYKnG4f"
      },
      "source": [
        "###Laboratory 1"
      ]
    },
    {
      "cell_type": "code",
      "metadata": {
        "colab": {
          "base_uri": "https://localhost:8080/"
        },
        "id": "WBw3zhg4nQ4T",
        "outputId": "2f61e7ce-de85-443e-86f2-e7129997da01"
      },
      "source": [
        "display=(\"Welcome to Python Programming\")\n",
        "print(display)"
      ],
      "execution_count": 7,
      "outputs": [
        {
          "output_type": "stream",
          "name": "stdout",
          "text": [
            "Welcome to Python Programming\n"
          ]
        }
      ]
    },
    {
      "cell_type": "code",
      "metadata": {
        "colab": {
          "base_uri": "https://localhost:8080/"
        },
        "id": "t_UwJ7ncn5oW",
        "outputId": "6432d622-8bf8-46cf-92a1-9809e438442d"
      },
      "source": [
        "Name,Age,Add,=\"NAME:King John Adamz R.Paglinawan\",\"AGE:18\",\"ADDRESS:207 Lilit Silang Cavite\"\n",
        "print(Name)\n",
        "print(Age)\n",
        "print(Add)"
      ],
      "execution_count": 10,
      "outputs": [
        {
          "output_type": "stream",
          "name": "stdout",
          "text": [
            "NAME:King John Adamz R.Paglinawan\n",
            "AGE:18\n",
            "ADDRESS:207 Lilit Silang Cavite\n"
          ]
        }
      ]
    }
  ]
}