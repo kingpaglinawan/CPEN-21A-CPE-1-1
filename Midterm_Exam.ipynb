{
  "nbformat": 4,
  "nbformat_minor": 0,
  "metadata": {
    "colab": {
      "name": "Midterm Exam.ipynb",
      "provenance": [],
      "authorship_tag": "ABX9TyPFFbKTjpxTmjswpdAAUVRL",
      "include_colab_link": true
    },
    "kernelspec": {
      "name": "python3",
      "display_name": "Python 3"
    },
    "language_info": {
      "name": "python"
    }
  },
  "cells": [
    {
      "cell_type": "markdown",
      "metadata": {
        "id": "view-in-github",
        "colab_type": "text"
      },
      "source": [
        "<a href=\"https://colab.research.google.com/github/kingpaglinawan/CPEN-21A-CPE-1-1/blob/main/Midterm_Exam.ipynb\" target=\"_parent\"><img src=\"https://colab.research.google.com/assets/colab-badge.svg\" alt=\"Open In Colab\"/></a>"
      ]
    },
    {
      "cell_type": "markdown",
      "metadata": {
        "id": "CXthCqxch3DD"
      },
      "source": [
        "#Midterm Exam"
      ]
    },
    {
      "cell_type": "markdown",
      "metadata": {
        "id": "w0yW-b46lbQW"
      },
      "source": [
        "##Problem Set 1\n",
        "###Basic Information"
      ]
    },
    {
      "cell_type": "code",
      "metadata": {
        "colab": {
          "base_uri": "https://localhost:8080/"
        },
        "id": "ik7k6-zWiWYV",
        "outputId": "7847cec4-ac2e-41fe-f469-dc0f85055c65"
      },
      "source": [
        "a=\"King John Adamz Paglinawan\"\n",
        "b=\"202102061\"\n",
        "c=\"19\"\n",
        "d=\"June 24,2002\"\n",
        "e=\"207 Litlit Silang Cavite\"\n",
        "f=\"BSCPE 1-1\"\n",
        "g=\"n/a\"\n",
        "\n",
        "print('Name:'+\" \"+a)\n",
        "print('Student No:'+\" \"+b)\n",
        "print('Age:'+\" \"+c)\n",
        "print('Birthday:'+\" \"+d)\n",
        "print('Address:'+\" \"+e)\n",
        "print('Course:'+\" \"+f)\n",
        "print('Last Sem GWA:'+\" \"+g)"
      ],
      "execution_count": null,
      "outputs": [
        {
          "output_type": "stream",
          "name": "stdout",
          "text": [
            "Name: King John Adamz Paglinawan\n",
            "Student No: 202102061\n",
            "Age: 19\n",
            "Birthday: June 24,2002\n",
            "Address: 207 Litlit Silang Cavite\n",
            "Course: BSCPE 1-1\n",
            "Last Sem GWA: n/a\n"
          ]
        }
      ]
    },
    {
      "cell_type": "markdown",
      "metadata": {
        "id": "a8gOZyaylzWO"
      },
      "source": [
        "###Problem Set 2"
      ]
    },
    {
      "cell_type": "code",
      "metadata": {
        "colab": {
          "base_uri": "https://localhost:8080/"
        },
        "id": "sI2po2wyl-pp",
        "outputId": "8e22d7ff-d825-4440-b191-a2ed0211e367"
      },
      "source": [
        "n=4\n",
        "answ=\"Y\"\n",
        "print((2<n) and (n<6))\n",
        "print((2<n) or (n==6))\n",
        "print(not(2<n) or (n==6))\n",
        "print(not(n<6))\n",
        "print((answ==\"Y\") or (answ==\"y\"))\n",
        "print((answ==\"Y\") and (answ==\"y\"))\n",
        "print(not(answ==\"y\"))\n",
        "print((2<n) and (n==5+1) or (answ==\"No\"))\n",
        "print(((n==2) and (n==7)) or (answ==\"Y\"))\n",
        "print(n==2) and ((n==7) or (answ==\"Y\"))"
      ],
      "execution_count": 1,
      "outputs": [
        {
          "output_type": "stream",
          "name": "stdout",
          "text": [
            "True\n",
            "True\n",
            "False\n",
            "False\n",
            "True\n",
            "False\n",
            "True\n",
            "False\n",
            "True\n",
            "False\n"
          ]
        }
      ]
    },
    {
      "cell_type": "markdown",
      "metadata": {
        "id": "drJBprAgmM5D"
      },
      "source": [
        "###Problem Set 3"
      ]
    },
    {
      "cell_type": "code",
      "metadata": {
        "colab": {
          "base_uri": "https://localhost:8080/"
        },
        "id": "QY4nQm1hmTMh",
        "outputId": "9c737c49-8c12-466e-ca05-c6af2015986f"
      },
      "source": [
        "x = 2 \n",
        "y = -3 \n",
        "w = 7 \n",
        "z = -10\t\n",
        "print(x/y)\n",
        "print(w/y/x)\n",
        "print(z/y%x)\t\n",
        "print(x%-y*w)\n",
        "print(x%y)\n",
        "print(z%w-y/x*5+5)\n",
        "print(9-x%(2+y))\n",
        "print(z//w)\n",
        "print((2+y)**2)\n",
        "print(w/x*2)"
      ],
      "execution_count": null,
      "outputs": [
        {
          "output_type": "stream",
          "name": "stdout",
          "text": [
            "-0.6666666666666666\n",
            "-1.1666666666666667\n",
            "1.3333333333333335\n",
            "14\n",
            "-1\n",
            "16.5\n",
            "9\n",
            "-2\n",
            "1\n",
            "7.0\n"
          ]
        }
      ]
    }
  ]
}